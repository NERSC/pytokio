{
 "cells": [
  {
   "cell_type": "markdown",
   "metadata": {},
   "source": [
    "# darshan-job-summary Reproducer\n",
    "\n",
    "This notebook demonstrates how to use pytokio to reproduce the plots created by the `darshan-job-summary.pl` script that is included with Darshan."
   ]
  },
  {
   "cell_type": "code",
   "execution_count": null,
   "metadata": {},
   "outputs": [],
   "source": [
    "%matplotlib inline"
   ]
  },
  {
   "cell_type": "code",
   "execution_count": null,
   "metadata": {},
   "outputs": [],
   "source": [
    "import os\n",
    "\n",
    "import pandas\n",
    "import matplotlib.pyplot\n",
    "import matplotlib\n",
    "matplotlib.rcParams['font.size'] = 18\n",
    "\n",
    "import tokio"
   ]
  },
  {
   "cell_type": "code",
   "execution_count": null,
   "metadata": {},
   "outputs": [],
   "source": [
    "darshanlog = tokio.connectors.darshan.Darshan(os.path.join('..', 'tests', 'inputs', 'sample.darshan'))"
   ]
  },
  {
   "cell_type": "code",
   "execution_count": null,
   "metadata": {},
   "outputs": [],
   "source": [
    "darshanlog.darshan_parser_base()\n",
    "darshanlog.darshan_parser_total()\n",
    "_ = darshanlog.darshan_parser_perf()"
   ]
  },
  {
   "cell_type": "markdown",
   "metadata": {},
   "source": [
    "## Create the IO time stacked bar chart"
   ]
  },
  {
   "cell_type": "code",
   "execution_count": null,
   "metadata": {},
   "outputs": [],
   "source": [
    "cpu_time = darshanlog['header']['nprocs'] * darshanlog['header']['walltime']"
   ]
  },
  {
   "cell_type": "code",
   "execution_count": null,
   "metadata": {},
   "outputs": [],
   "source": [
    "dataframe_dict = []\n",
    "for module in 'posix', 'mpiio', 'stdio':\n",
    "    record ={\n",
    "        'module': module,\n",
    "        'read_time': max(0.0, darshanlog['counters'][module]['_total']['F_READ_TIME']),\n",
    "        'write_time': max(0.0, darshanlog['counters'][module]['_total']['F_WRITE_TIME']),\n",
    "        'meta_time': max(0.0, darshanlog['counters'][module]['_total']['F_META_TIME']),\n",
    "    }\n",
    "    record['total_time'] = darshanlog['header']['nprocs'] * darshanlog['header']['walltime']\n",
    "    dataframe_dict.append(record)"
   ]
  },
  {
   "cell_type": "code",
   "execution_count": null,
   "metadata": {},
   "outputs": [],
   "source": [
    "df = pandas.DataFrame.from_dict(dataframe_dict).set_index('module')\n",
    "df['Read'] = df['read_time'] / df['total_time'] * 100.0\n",
    "df['Write'] = df['write_time'] / df['total_time'] * 100.0\n",
    "df['Metadata'] = df['meta_time'] / df['total_time'] * 100.0\n",
    "df['Other (including application compute)'] = 100.0 - df['Read'] - df['Write'] - df['Metadata']\n",
    "df"
   ]
  },
  {
   "cell_type": "code",
   "execution_count": null,
   "metadata": {},
   "outputs": [],
   "source": [
    "fig, ax = matplotlib.pyplot.subplots(figsize=(8,6))\n",
    "\n",
    "df[['Read', 'Write', 'Metadata', 'Other (including application compute)']].plot.bar(ax=ax, width=0.8, stacked=True)\n",
    "\n",
    "ax.set_ylabel(\"Percentage of run time\")\n",
    "ax.set_xlabel(\"\")\n",
    "xticklabels = []\n",
    "for xtick in ax.get_xticklabels():\n",
    "    xticklabels.append(xtick.get_text().upper().replace(\"MPIIO\", \"MPI-IO\"))\n",
    "ax.set_xticklabels(xticklabels, rotation=30)\n",
    "    \n",
    "# Put a legend below current axis\n",
    "box = ax.get_position()\n",
    "ax.set_position([box.x0, box.y0 + box.height * 0.1,\n",
    "                 box.width, box.height * 0.9])\n",
    "ax.legend(loc='upper center', bbox_to_anchor=(0.5, -0.17),\n",
    "          fancybox=True, shadow=True)\n",
    "ax.yaxis.grid()\n",
    "ax.set_axisbelow(True)\n",
    "ax.set_title(\"Average I/O cost per process\")"
   ]
  },
  {
   "cell_type": "markdown",
   "metadata": {},
   "source": [
    "## Create the total ops chart"
   ]
  },
  {
   "cell_type": "code",
   "execution_count": null,
   "metadata": {},
   "outputs": [],
   "source": [
    "module_ops = {\n",
    "    'posix': ['reads', 'writes', 'opens', 'stats', 'seeks', 'mmaps', 'fsyncs'],\n",
    "    'mpiio_coll': ['coll_reads', 'coll_writes', 'coll_opens'],\n",
    "    'mpiio_indep': ['indep_reads', 'indep_writes', 'indep_opens'],\n",
    "    'stdio': ['reads', 'writes', 'opens', 'seeks']\n",
    "}\n",
    "plot_module_labels = {\n",
    "    'posix': \"POSIX\",\n",
    "    'mpiio_indep': \"MPI-IO Indep.\",\n",
    "    'mpiio_coll': \"MPI-IO Coll.\",\n",
    "    'stdio': \"STDIO\"\n",
    "}\n",
    "dataframe_dict = []\n",
    "for module_key, module_descr in plot_module_labels.items():\n",
    "    if '_' in module_key:\n",
    "        module, mode = module_key.split('_', 1)\n",
    "    else:\n",
    "        module = module_key\n",
    "        mode = None\n",
    "\n",
    "    record = {'module': module_descr}\n",
    "    for counter_key in module_ops[module_key]:\n",
    "        if mode and counter_key.startswith(mode):\n",
    "            op = counter_key.split('_', 1)[-1]\n",
    "        else:\n",
    "            op = counter_key\n",
    "        record[op] = darshanlog['counters'][module]['_total'].get(counter_key.upper())\n",
    "    dataframe_dict.append(record)"
   ]
  },
  {
   "cell_type": "code",
   "execution_count": null,
   "metadata": {},
   "outputs": [],
   "source": [
    "plot_order = ['reads', 'writes', 'opens', 'stats', 'seeks', 'mmaps', 'fsyncs']\n",
    "\n",
    "df = pandas.DataFrame.from_dict(dataframe_dict).set_index('module').T\n",
    "df.columns.name = None\n",
    "df.index.name = \"op\"\n",
    "df"
   ]
  },
  {
   "cell_type": "code",
   "execution_count": null,
   "metadata": {},
   "outputs": [],
   "source": [
    "fig, ax = matplotlib.pyplot.subplots(figsize=(8,6))\n",
    "\n",
    "df.loc[plot_order].plot.bar(ax=ax, width=0.8)\n",
    "\n",
    "ax.set_ylabel(\"Ops (Total, All Processes)\")\n",
    "ax.set_xlabel(\"\")\n",
    "xticklabels = []\n",
    "for xtick in ax.get_xticklabels():\n",
    "    xticklabels.append(xtick.get_text().rstrip('s').title())\n",
    "ax.set_xticklabels(xticklabels, rotation=30)\n",
    "\n",
    "# Put a legend below current axis\n",
    "box = ax.get_position()\n",
    "ax.set_position([box.x0, box.y0 + box.height * 0.1,\n",
    "                 box.width, box.height * 0.9])\n",
    "ax.legend(loc='upper center', bbox_to_anchor=(0.5, -0.17),\n",
    "          fancybox=True, shadow=True, ncol=2)\n",
    "ax.grid()\n",
    "ax.set_axisbelow(True)\n",
    "ax.set_title(\"I/O Operation Counts\")\n",
    "\n",
    "# ax.set_yscale('log')"
   ]
  },
  {
   "cell_type": "code",
   "execution_count": null,
   "metadata": {},
   "outputs": [],
   "source": []
  }
 ],
 "metadata": {
  "kernelspec": {
   "display_name": "Python 3",
   "language": "python",
   "name": "python3"
  },
  "language_info": {
   "codemirror_mode": {
    "name": "ipython",
    "version": 3
   },
   "file_extension": ".py",
   "mimetype": "text/x-python",
   "name": "python",
   "nbconvert_exporter": "python",
   "pygments_lexer": "ipython3",
   "version": "3.6.5"
  }
 },
 "nbformat": 4,
 "nbformat_minor": 2
}
