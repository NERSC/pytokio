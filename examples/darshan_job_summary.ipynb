{
 "cells": [
  {
   "cell_type": "markdown",
   "metadata": {},
   "source": [
    "# darshan-job-summary Reproducer\n",
    "\n",
    "This notebook demonstrates how to use pytokio to reproduce the plots created by the `darshan-job-summary.pl` script that is included with Darshan."
   ]
  },
  {
   "cell_type": "code",
   "execution_count": null,
   "metadata": {},
   "outputs": [],
   "source": [
    "%matplotlib inline"
   ]
  },
  {
   "cell_type": "code",
   "execution_count": null,
   "metadata": {},
   "outputs": [],
   "source": [
    "import os\n",
    "\n",
    "import pandas\n",
    "import matplotlib.pyplot\n",
    "import matplotlib\n",
    "matplotlib.rcParams['font.size'] = 20\n",
    "matplotlib.rcParams['legend.fontsize'] = 'small'\n",
    "matplotlib.rcParams['axes.titlesize'] = 20\n",
    "\n",
    "import tokio\n",
    "\n",
    "PLOT_OUTPUT_FORMAT = 'pdf'"
   ]
  },
  {
   "cell_type": "code",
   "execution_count": null,
   "metadata": {},
   "outputs": [],
   "source": [
    "darshanlog = tokio.connectors.darshan.Darshan(os.path.join('..', 'tests', 'inputs', 'sample.darshan'))"
   ]
  },
  {
   "cell_type": "code",
   "execution_count": null,
   "metadata": {},
   "outputs": [],
   "source": [
    "darshanlog.darshan_parser_base()\n",
    "darshanlog.darshan_parser_total()\n",
    "_ = darshanlog.darshan_parser_perf()"
   ]
  },
  {
   "cell_type": "markdown",
   "metadata": {},
   "source": [
    "## Create the IO time stacked bar chart"
   ]
  },
  {
   "cell_type": "code",
   "execution_count": null,
   "metadata": {},
   "outputs": [],
   "source": [
    "cpu_time = darshanlog['header']['nprocs'] * darshanlog['header']['walltime']"
   ]
  },
  {
   "cell_type": "code",
   "execution_count": null,
   "metadata": {},
   "outputs": [],
   "source": [
    "dataframe_dict = []\n",
    "for module in 'posix', 'mpiio', 'stdio':\n",
    "    record ={\n",
    "        'module': module,\n",
    "        'read_time': max(0.0, darshanlog['counters'][module]['_total']['F_READ_TIME']),\n",
    "        'write_time': max(0.0, darshanlog['counters'][module]['_total']['F_WRITE_TIME']),\n",
    "        'meta_time': max(0.0, darshanlog['counters'][module]['_total']['F_META_TIME']),\n",
    "    }\n",
    "    record['total_time'] = darshanlog['header']['nprocs'] * darshanlog['header']['walltime']\n",
    "    dataframe_dict.append(record)"
   ]
  },
  {
   "cell_type": "code",
   "execution_count": null,
   "metadata": {},
   "outputs": [],
   "source": [
    "df = pandas.DataFrame.from_dict(dataframe_dict).set_index('module')\n",
    "df['Read'] = df['read_time'] / df['total_time'] * 100.0\n",
    "df['Write'] = df['write_time'] / df['total_time'] * 100.0\n",
    "df['Metadata'] = df['meta_time'] / df['total_time'] * 100.0\n",
    "df['Other (including application compute)'] = 100.0 - df['Read'] - df['Write'] - df['Metadata']\n",
    "df"
   ]
  },
  {
   "cell_type": "code",
   "execution_count": null,
   "metadata": {},
   "outputs": [],
   "source": [
    "fig, ax = matplotlib.pyplot.subplots(figsize=(8,6))\n",
    "\n",
    "df[['Read', 'Write', 'Metadata', 'Other (including application compute)']].plot.bar(ax=ax, width=0.8, stacked=True, color=['C3', 'C2', 'C1', 'C0'])\n",
    "\n",
    "ax.set_ylabel(\"Percentage of run time\")\n",
    "ax.set_xlabel(\"\")\n",
    "xticklabels = []\n",
    "for xtick in ax.get_xticklabels():\n",
    "    xticklabels.append(xtick.get_text().upper().replace(\"MPIIO\", \"MPI-IO\"))\n",
    "ax.set_xticklabels(xticklabels, rotation=30)\n",
    "    \n",
    "# Put a legend below current axis\n",
    "box = ax.get_position()\n",
    "ax.set_position([box.x0, box.y0 + box.height * 0.1,\n",
    "                 box.width, box.height * 0.9])\n",
    "ax.legend(loc='upper center', bbox_to_anchor=(0.5, -0.17),\n",
    "          fancybox=True,\n",
    "          shadow=True,\n",
    "#        fontsize='small',\n",
    "          ncol=2)\n",
    "ax.yaxis.grid()\n",
    "ax.set_axisbelow(True)\n",
    "ax.set_title(\"Average I/O cost per process\")\n",
    "\n",
    "if PLOT_OUTPUT_FORMAT is not None:\n",
    "    output_f = 'time-summary.%s' % PLOT_OUTPUT_FORMAT\n",
    "    ax.get_figure().savefig(output_f, transparent=True, bbox_inches='tight')\n",
    "    print(\"Saved output to \" + output_f)"
   ]
  },
  {
   "cell_type": "markdown",
   "metadata": {},
   "source": [
    "## Create the total ops chart"
   ]
  },
  {
   "cell_type": "code",
   "execution_count": null,
   "metadata": {},
   "outputs": [],
   "source": [
    "module_ops = {\n",
    "    'posix': ['reads', 'writes', 'opens', 'stats', 'seeks', 'mmaps', 'fsyncs'],\n",
    "    'mpiio_coll': ['coll_reads', 'coll_writes', 'coll_opens'],\n",
    "    'mpiio_indep': ['indep_reads', 'indep_writes', 'indep_opens'],\n",
    "    'stdio': ['reads', 'writes', 'opens', 'seeks']\n",
    "}\n",
    "plot_module_labels = {\n",
    "    'posix': \"POSIX\",\n",
    "    'mpiio_indep': \"MPI-IO Indep.\",\n",
    "    'mpiio_coll': \"MPI-IO Coll.\",\n",
    "    'stdio': \"STDIO\"\n",
    "}\n",
    "dataframe_dict = []\n",
    "for module_key, module_descr in plot_module_labels.items():\n",
    "    if '_' in module_key:\n",
    "        module, mode = module_key.split('_', 1)\n",
    "    else:\n",
    "        module = module_key\n",
    "        mode = None\n",
    "\n",
    "    record = {'module': module_descr}\n",
    "    for counter_key in module_ops[module_key]:\n",
    "        if mode and counter_key.startswith(mode):\n",
    "            op = counter_key.split('_', 1)[-1]\n",
    "        else:\n",
    "            op = counter_key\n",
    "        record[op] = darshanlog['counters'][module]['_total'].get(counter_key.upper())\n",
    "    dataframe_dict.append(record)"
   ]
  },
  {
   "cell_type": "code",
   "execution_count": null,
   "metadata": {},
   "outputs": [],
   "source": [
    "plot_order = ['reads', 'writes', 'opens', 'stats', 'seeks', 'mmaps', 'fsyncs']\n",
    "\n",
    "df = pandas.DataFrame.from_dict(dataframe_dict).set_index('module').T\n",
    "df.columns.name = None\n",
    "df.index.name = \"op\"\n",
    "df"
   ]
  },
  {
   "cell_type": "code",
   "execution_count": null,
   "metadata": {},
   "outputs": [],
   "source": [
    "fig, ax = matplotlib.pyplot.subplots(figsize=(8,6))\n",
    "\n",
    "df.loc[plot_order].plot.bar(ax=ax, width=0.8)\n",
    "\n",
    "ax.set_ylabel(\"Ops (Total, All Processes)\")\n",
    "ax.set_xlabel(\"\")\n",
    "xticklabels = []\n",
    "for xtick in ax.get_xticklabels():\n",
    "    xticklabels.append(xtick.get_text().rstrip('s').title())\n",
    "ax.set_xticklabels(xticklabels, rotation=30)\n",
    "\n",
    "# Put a legend below current axis\n",
    "box = ax.get_position()\n",
    "ax.set_position([box.x0, box.y0 + box.height * 0.1,\n",
    "                 box.width, box.height * 0.9])\n",
    "ax.legend(loc='upper center', bbox_to_anchor=(0.5, -0.17),\n",
    "          fancybox=True, shadow=True, ncol=2)\n",
    "ax.grid()\n",
    "ax.set_axisbelow(True)\n",
    "ax.set_title(\"I/O Operation Counts\")\n",
    "\n",
    "# ax.set_yscale('log')\n",
    "\n",
    "if PLOT_OUTPUT_FORMAT is not None:\n",
    "    output_f = 'op-counts.%s' % PLOT_OUTPUT_FORMAT\n",
    "    ax.get_figure().savefig(output_f, transparent=True, bbox_inches='tight')\n",
    "    print(\"Saved output to \" + output_f)"
   ]
  },
  {
   "cell_type": "code",
   "execution_count": null,
   "metadata": {},
   "outputs": [],
   "source": [
    "agg_hists_dict = {}\n",
    "for filename, per_rank in darshanlog['counters']['posix'].items():\n",
    "    if filename.startswith('_'):\n",
    "        continue\n",
    "    for rank, counters in per_rank.items():\n",
    "        for key, value in counters.items():\n",
    "            if key.startswith(\"SIZE_\"):\n",
    "                _, readwrite, bin_range = key.lower().split('_', 2)\n",
    "                \n",
    "                bin_l, bin_r = bin_range.split('_', 1)\n",
    "                if bin_l.endswith('k'):\n",
    "                    bin_numeric = int(bin_l.rstrip('k')) * 1024\n",
    "                elif bin_l.endswith('m'):\n",
    "                    bin_numeric = int(bin_l.rstrip('m')) * 1024 * 1024\n",
    "                elif bin_l.endswith('g'):\n",
    "                    bin_numeric = int(bin_l.rstrip('g')) * 2**30\n",
    "                else:\n",
    "                    bin_numeric = int(bin_l)\n",
    "\n",
    "                try:\n",
    "                    bin_name = int(bin_l)\n",
    "                except ValueError:\n",
    "                    bin_name = bin_l[:-1] + \" \" + bin_l[-1].upper() + \"iB\"\n",
    "\n",
    "                if bin_name not in agg_hists_dict:\n",
    "                    agg_hists_dict[bin_name] = {'Read': 0, 'Write': 0, 'bin': bin_numeric}\n",
    "                agg_hists_dict[bin_name][readwrite.title()] += value"
   ]
  },
  {
   "cell_type": "code",
   "execution_count": null,
   "metadata": {},
   "outputs": [],
   "source": [
    "df = pandas.DataFrame.from_dict(agg_hists_dict, orient='index').sort_values('bin')[['Read', 'Write']]\n",
    "df"
   ]
  },
  {
   "cell_type": "code",
   "execution_count": null,
   "metadata": {},
   "outputs": [],
   "source": [
    "fig, ax = matplotlib.pyplot.subplots(figsize=(8,6))\n",
    "\n",
    "df.plot.bar(ax=ax, width=0.8, color=['C3', 'C2'])\n",
    "\n",
    "ax.set_ylabel(\"Count (Total, All Processes)\")\n",
    "ax.set_xlabel(\"\")\n",
    "xticklabels = []\n",
    "for xtick in ax.get_xticklabels():\n",
    "    xticklabels.append(xtick.get_text())\n",
    "xticklabels[-1] += \" +\"\n",
    "ax.set_xticklabels(xticklabels, rotation=30)\n",
    "\n",
    "# Put a legend below current axis\n",
    "box = ax.get_position()\n",
    "ax.set_position([box.x0, box.y0 + box.height * 0.1,\n",
    "                 box.width, box.height * 0.9])\n",
    "ax.legend(loc='upper center', bbox_to_anchor=(0.5, -0.17),\n",
    "          fancybox=True, shadow=True, ncol=2)\n",
    "ax.grid()\n",
    "ax.set_axisbelow(True)\n",
    "ax.set_title(\"POSIX Access Sizes\")\n",
    "\n",
    "# ax.set_yscale('log')\n",
    "\n",
    "if PLOT_OUTPUT_FORMAT is not None:\n",
    "    output_f = 'posix-access-hist.%s' % PLOT_OUTPUT_FORMAT\n",
    "    ax.get_figure().savefig(output_f, transparent=True, bbox_inches='tight')\n",
    "    print(\"Saved output to \" + output_f)"
   ]
  },
  {
   "cell_type": "code",
   "execution_count": null,
   "metadata": {},
   "outputs": [],
   "source": []
  },
  {
   "cell_type": "code",
   "execution_count": null,
   "metadata": {},
   "outputs": [],
   "source": []
  }
 ],
 "metadata": {
  "kernelspec": {
   "display_name": "Python 3",
   "language": "python",
   "name": "python3"
  },
  "language_info": {
   "codemirror_mode": {
    "name": "ipython",
    "version": 3
   },
   "file_extension": ".py",
   "mimetype": "text/x-python",
   "name": "python",
   "nbconvert_exporter": "python",
   "pygments_lexer": "ipython3",
   "version": "3.6.5"
  }
 },
 "nbformat": 4,
 "nbformat_minor": 2
}
