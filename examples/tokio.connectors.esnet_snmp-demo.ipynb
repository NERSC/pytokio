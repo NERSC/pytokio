{
 "cells": [
  {
   "cell_type": "markdown",
   "metadata": {},
   "source": [
    "# ESnet SNMP REST API Connector\n",
    "\n",
    "This notebook demonstrates how to use the `esnet_snmp` connector to retrieve ESnet traffic data from the ESnet SNMP REST API."
   ]
  },
  {
   "cell_type": "code",
   "execution_count": null,
   "metadata": {},
   "outputs": [],
   "source": [
    "import datetime"
   ]
  },
  {
   "cell_type": "code",
   "execution_count": null,
   "metadata": {},
   "outputs": [],
   "source": [
    "import tokio.connectors.esnet_snmp"
   ]
  },
  {
   "cell_type": "code",
   "execution_count": null,
   "metadata": {},
   "outputs": [],
   "source": [
    "ROUTER = 'sunn-cr5'\n",
    "INTERFACE = 'to_nersc_ip-d_v4'\n",
    "TARGET_DATE = datetime.datetime.today().replace(hour=0, minute=0, second=0, microsecond=0) - datetime.timedelta(days=1)"
   ]
  },
  {
   "cell_type": "code",
   "execution_count": null,
   "metadata": {},
   "outputs": [],
   "source": [
    "# Because the ESnet API treats the end date as inclusive, we subtract\n",
    "# one second to avoid counting the first measurement of the following day.\n",
    "esnetsnmp = tokio.connectors.esnet_snmp.EsnetSnmp(\n",
    "    start=TARGET_DATE,\n",
    "    end=TARGET_DATE + datetime.timedelta(days=1, seconds=-1)\n",
    ")"
   ]
  },
  {
   "cell_type": "code",
   "execution_count": null,
   "metadata": {},
   "outputs": [],
   "source": [
    "# Retrieve data in and out of the network interface and sanity check the timestamps\n",
    "for direction in 'in', 'out':\n",
    "    raw_return = esnetsnmp.get_interface_counters(endpoint=ROUTER,\n",
    "                                                  interface=INTERFACE,\n",
    "                                                  direction=direction,\n",
    "                                                  agg_func='average')\n",
    "    if not raw_return.get('data'):\n",
    "        print(\"No data returned.  Issuing too many queries?  Or is date too far in the past?\")\n",
    "    else:\n",
    "        print(\"Earliest data point for %3s: %s\" % (direction, str(datetime.datetime.fromtimestamp(min(esnetsnmp[ROUTER][INTERFACE][direction].keys())))))\n",
    "        print(\"Latest data point for %3s:   %s\" % (direction, str(datetime.datetime.fromtimestamp(max(esnetsnmp[ROUTER][INTERFACE][direction].keys())))))"
   ]
  },
  {
   "cell_type": "code",
   "execution_count": null,
   "metadata": {},
   "outputs": [],
   "source": [
    "bidirectional_traffic = 0\n",
    "for direction in 'in', 'out':\n",
    "    bytes_per_sec = list(esnetsnmp[ROUTER][INTERFACE][direction].values())\n",
    "    total_bytes = sum(bytes_per_sec) * esnetsnmp.timestep\n",
    "    bidirectional_traffic += total_bytes\n",
    "    print(\"%s:%s saw %.2f TiB %s\" % (\n",
    "        ROUTER,\n",
    "        INTERFACE,\n",
    "        total_bytes / 2**40,\n",
    "        direction))\n",
    "print(\"Total bidirectional traffic: %.2f\" % (bidirectional_traffic / 2**40))"
   ]
  },
  {
   "cell_type": "code",
   "execution_count": null,
   "metadata": {},
   "outputs": [],
   "source": []
  }
 ],
 "metadata": {
  "kernelspec": {
   "display_name": "Python 3",
   "language": "python",
   "name": "python3"
  },
  "language_info": {
   "codemirror_mode": {
    "name": "ipython",
    "version": 3
   },
   "file_extension": ".py",
   "mimetype": "text/x-python",
   "name": "python",
   "nbconvert_exporter": "python",
   "pygments_lexer": "ipython3",
   "version": "3.6.5"
  }
 },
 "nbformat": 4,
 "nbformat_minor": 2
}
