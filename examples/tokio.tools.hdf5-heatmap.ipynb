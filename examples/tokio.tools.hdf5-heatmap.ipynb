{
 "cells": [
  {
   "cell_type": "code",
   "execution_count": null,
   "metadata": {},
   "outputs": [],
   "source": [
    "%matplotlib inline"
   ]
  },
  {
   "cell_type": "code",
   "execution_count": null,
   "metadata": {},
   "outputs": [],
   "source": [
    "import datetime\n",
    "import matplotlib\n",
    "import matplotlib.pyplot as plt\n",
    "import tokio\n",
    "import tokio.tools\n",
    "import tokio.config\n",
    "matplotlib.rcParams.update({'font.size': 14})"
   ]
  },
  {
   "cell_type": "markdown",
   "metadata": {},
   "source": [
    "## Define input parameters\n",
    "\n",
    "To generate a Lustre activity heat map, you must define the start time, end time, and file system of interest.  Valid file systems to use in the `file_systems` variable are printed by the following cell."
   ]
  },
  {
   "cell_type": "code",
   "execution_count": null,
   "metadata": {},
   "outputs": [],
   "source": [
    "print(\"Valid file systems are: \" + \", \".join(tokio.config.CONFIG['hdf5_files'].keys()))"
   ]
  },
  {
   "cell_type": "markdown",
   "metadata": {},
   "source": [
    "Define the start time, end time, and file system name below."
   ]
  },
  {
   "cell_type": "code",
   "execution_count": null,
   "metadata": {},
   "outputs": [],
   "source": [
    "start_time = datetime.datetime(2017, 10, 17, 20, 26, 6)\n",
    "end_time = datetime.datetime(2017, 10, 17, 21, 56, 14)\n",
    "file_system = 'cscratch'\n",
    "\n",
    "print(\"Start time: %s\" % start_time)\n",
    "print(\"End time:   %s\" % end_time)"
   ]
  },
  {
   "cell_type": "markdown",
   "metadata": {},
   "source": [
    "## Generate heat maps\n",
    "\n",
    "You shouldn't have to modify any code below here."
   ]
  },
  {
   "cell_type": "code",
   "execution_count": null,
   "metadata": {},
   "outputs": [],
   "source": [
    "plot_datasets = [\n",
    "    (tokio.tools.hdf5.get_dataframe_from_time_range(\n",
    "        fsname=file_system,\n",
    "        dataset_name='/datatargets/readbytes',\n",
    "        datetime_start=start_time,\n",
    "        datetime_end=end_time) / 2.0**30, \"Read Rate\"),\n",
    "    (tokio.tools.hdf5.get_dataframe_from_time_range(\n",
    "        fsname=file_system,\n",
    "        dataset_name='/datatargets/writebytes',\n",
    "        datetime_start=start_time,\n",
    "        datetime_end=end_time) / 2.0**30, \"Write Rate\"),\n",
    "]\n",
    "plot_datasets_cpu = [\n",
    "    (tokio.tools.hdf5.get_dataframe_from_time_range(\n",
    "        fsname=file_system,\n",
    "        dataset_name='/dataservers/cpuload',\n",
    "        datetime_start=start_time,\n",
    "        datetime_end=end_time), \"OSS CPU Load\"),\n",
    "    (tokio.tools.hdf5.get_dataframe_from_time_range(\n",
    "        fsname=file_system,\n",
    "        dataset_name='/mdservers/cpuload',\n",
    "        datetime_start=start_time,\n",
    "        datetime_end=end_time), \"MDS CPU Load\")\n",
    "]"
   ]
  },
  {
   "cell_type": "code",
   "execution_count": null,
   "metadata": {},
   "outputs": [],
   "source": [
    "def plot_dataframe(plot_df, xlabel=\"x\", ylabel=\"y\", zlabel=\"z\", title=None):\n",
    "    plot_aspect = max(1.0, float(len(plot_df.transpose().index))/float(len(plot_df.transpose().columns)))\n",
    "    \n",
    "    fig = plt.figure()\n",
    "    fig.set_size_inches(10,8)\n",
    "    fig.subplots_adjust(hspace=0.0, wspace=0.0)\n",
    "    if title:\n",
    "        fig.suptitle(title)\n",
    "\n",
    "    gridspec = matplotlib.gridspec.GridSpec(2, 2, width_ratios=[4,1], height_ratios=[3,1])\n",
    "\n",
    "    ### generate heatmap\n",
    "    ax_hm = fig.add_subplot(gridspec[0])\n",
    "\n",
    "    ### alternate sorting - sort by standard deviation to highlight bad OSTs\n",
    "    x = [ timestamp.to_pydatetime() for timestamp in plot_df.index ]\n",
    "    y = range(len(plot_df.columns))\n",
    "    z = plot_df[plot_df.columns[y]].T\n",
    "    \n",
    "    ### generate the heatmap\n",
    "    cs = ax_hm.pcolormesh(\n",
    "            x,\n",
    "            y,\n",
    "            z,\n",
    "            cmap=\"hot\")\n",
    "\n",
    "    ### force plot to only show the range of data we're plotting and nothing more\n",
    "    ax_hm.set_ylim(0, len(plot_df.columns) - 1)\n",
    "\n",
    "    ### build tick labels for y axis\n",
    "    labels = []\n",
    "    for label_idx in [int(i) for i in ax_hm.get_yticks()]:\n",
    "        if label_idx < len(plot_df.columns):\n",
    "            labels.append(plot_df.columns[label_idx])\n",
    "        else:\n",
    "            labels.append(\"\")\n",
    "    ax_hm.set_yticklabels(labels)\n",
    "#   ax_hm.set_yticks(range(len(plot_df.columns)))\n",
    "#   ax_hm.set_yticklabels(plot_df.columns)\n",
    "#   ax_hm.set_xticklabels(\"\")\n",
    "\n",
    "    ### add the colorbar\n",
    "    ax_cbar = fig.add_subplot(gridspec[1])\n",
    "    cbar = plt.colorbar(cs, cax=ax_cbar)\n",
    "    ax_cbar.set_ylabel(zlabel)\n",
    "\n",
    "    ### plot the sum over all OSTs for each timestep\n",
    "    ax_line = fig.add_subplot(gridspec[2])\n",
    "    y = plot_df.sum(axis=1)\n",
    "    ax_line.plot(y)\n",
    "    ax_line.grid()\n",
    "\n",
    "    ### lock the xticks of both plots together\n",
    "    ax_line.set_xlim([x[0], x[-1]])\n",
    "    ax_hm.set_xlim([x[0], x[-1]])\n",
    "    ax_line.set_xticks( ax_hm.get_xticks() )\n",
    "    \n",
    "    ### set time format\n",
    "    ax_line.xaxis.set_major_formatter(matplotlib.dates.DateFormatter('%H:%M'))\n",
    "    ax_line.set_ylabel(ylabel,\n",
    "                       rotation='horizontal',\n",
    "                       fontsize=14,\n",
    "                       horizontalalignment='right',\n",
    "                       verticalalignment='top')\n",
    "    ax_line.set_xlabel(xlabel)\n",
    "    fig.autofmt_xdate()\n",
    "    return ax_hm"
   ]
  },
  {
   "cell_type": "markdown",
   "metadata": {},
   "source": [
    "## Read and write rates on Lustre\n",
    "\n",
    "The following heat maps show time on the _x_ axis, each OST in the file system on the _y_ axis, and the per-OST performance delivered as the _z_ color.  Long horizontal stripes in x indicate that a single OST was busy (usually when a file with a stripe width of 1 is being read or written), and vertical bands indicate coherent parallel I/O is happening."
   ]
  },
  {
   "cell_type": "code",
   "execution_count": null,
   "metadata": {
    "scrolled": false
   },
   "outputs": [],
   "source": [
    "for plot_dataset in plot_datasets:\n",
    "    ax_hm = plot_dataframe(plot_dataset[0],\n",
    "                   zlabel=\"GiB/sec\",\n",
    "                   ylabel=\"GiB/sec\",\n",
    "                   title=plot_dataset[1])\n",
    "    print(\"Total %.f GiB %s\" % (plot_dataset[0].sum().sum() * 5.0, plot_dataset[1].split()[0]))"
   ]
  },
  {
   "cell_type": "markdown",
   "metadata": {},
   "source": [
    "## OSS and MDS CPU loads\n",
    "\n",
    "The following heat maps show how busy the CPUs on each OSS and the primary MDS were.  Each OSS's load will range from 0 to 100.  The higher the CPU load, the more work the OSS is doing to service I/O requests.  This is not necessarily bad, but a high CPU load along with low I/O rate indicates something bad is happening on Lustre.\n",
    "\n",
    "Note that the _y_ axis of the line graph is the sum of CPU loads which, on an absolute scale, do not have any intrinsic meaning.  Also note that the heat map on the MDS CPU heat map is absent because LMT currently only monitors a single MDS, so there is only one y data point."
   ]
  },
  {
   "cell_type": "code",
   "execution_count": null,
   "metadata": {},
   "outputs": [],
   "source": [
    "for plot_dataset in plot_datasets_cpu:\n",
    "    plot_dataframe(plot_dataset[0],\n",
    "                   zlabel=\"% Load\",\n",
    "                   ylabel=\"% Load\",\n",
    "                   title=plot_dataset[1])"
   ]
  },
  {
   "cell_type": "code",
   "execution_count": null,
   "metadata": {},
   "outputs": [],
   "source": []
  }
 ],
 "metadata": {
  "kernelspec": {
   "display_name": "Python 3",
   "language": "python",
   "name": "python3"
  },
  "language_info": {
   "codemirror_mode": {
    "name": "ipython",
    "version": 3
   },
   "file_extension": ".py",
   "mimetype": "text/x-python",
   "name": "python",
   "nbconvert_exporter": "python",
   "pygments_lexer": "ipython3",
   "version": "3.7.0"
  }
 },
 "nbformat": 4,
 "nbformat_minor": 2
}
