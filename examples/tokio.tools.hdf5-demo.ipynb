{
 "cells": [
  {
   "cell_type": "markdown",
   "metadata": {},
   "source": [
    "# tools.hdf5 Interface\n",
    "\n",
    "This notebook demonstrates the basic syntax for retrieving Lustre server-side data from LMT via the pytokio API."
   ]
  },
  {
   "cell_type": "code",
   "execution_count": null,
   "metadata": {},
   "outputs": [],
   "source": [
    "%matplotlib inline"
   ]
  },
  {
   "cell_type": "code",
   "execution_count": null,
   "metadata": {},
   "outputs": [],
   "source": [
    "import matplotlib\n",
    "matplotlib.rcParams.update({'font.size': 14})\n",
    "import matplotlib.pyplot as plt\n",
    "import numpy as np\n",
    "import datetime\n",
    "import tokio.tools"
   ]
  },
  {
   "cell_type": "markdown",
   "metadata": {},
   "source": [
    "## Define input time range\n",
    "\n",
    "`start_time` and `end_time` define the time range of interest.  Note that LMT stores data every five seconds, so requesting a large time range (e.g., multiple days) can result in very large query times and very slow plotting."
   ]
  },
  {
   "cell_type": "code",
   "execution_count": null,
   "metadata": {},
   "outputs": [],
   "source": [
    "start_time = datetime.datetime(2017, 7, 6, 0, 37, 49)\n",
    "end_time = datetime.datetime(2017, 7, 6, 0, 54, 45)\n",
    "file_system = 'cscratch'"
   ]
  },
  {
   "cell_type": "markdown",
   "metadata": {},
   "source": [
    "## Retrieve LMT data from HDF5\n",
    "\n",
    "The arguments for `tools.tokio.hdf5.get_dataframe_from_time_range` requires a bit of arcane knowledge.  Specifically:\n",
    "\n",
    "`file_name` can be:\n",
    "\n",
    "* `cori_snx11168.h5lmt` for cscratch\n",
    "* `edison_snx11025.h5lmt` for edison scratch1\n",
    "* `edison_snx11035.h5lmt` for edison scratch2\n",
    "* `edison_snx11036.h5lmt` for edison scratch3\n",
    "\n",
    "`group_name` can be:\n",
    "\n",
    "* `OSTReadGroup/OSTBulkReadDataSet` for read bytes/sec\n",
    "* `OSTWriteGroup/OSTBulkWriteDataSet` for write bytes/sec\n",
    "* `OSSCPUGroup/OSSCPUDataSet` for OST CPU loads (out of 100.0)\n",
    "* `MDSCPUGroup/MDSCPUDataSet` for MDS CPU loads (out of 100.0)"
   ]
  },
  {
   "cell_type": "code",
   "execution_count": null,
   "metadata": {},
   "outputs": [],
   "source": [
    "result_reads = tokio.tools.hdf5.get_dataframe_from_time_range(\n",
    "            fsname=file_system,\n",
    "            dataset_name='datatargets/readrates',\n",
    "            datetime_start=start_time,\n",
    "            datetime_end=end_time)\n",
    "result_reads.head()"
   ]
  },
  {
   "cell_type": "code",
   "execution_count": null,
   "metadata": {},
   "outputs": [],
   "source": [
    "result_writes = tokio.tools.hdf5.get_dataframe_from_time_range(\n",
    "            fsname=file_system,\n",
    "            dataset_name='datatargets/writerates',\n",
    "            datetime_start=start_time,\n",
    "            datetime_end=end_time)\n",
    "result_writes.head()"
   ]
  },
  {
   "cell_type": "markdown",
   "metadata": {},
   "source": [
    "## Plot Overall OST I/O Rates"
   ]
  },
  {
   "cell_type": "code",
   "execution_count": null,
   "metadata": {},
   "outputs": [],
   "source": [
    "plot_df = ((result_writes+result_reads) / 2.0**30.0)\n",
    "plot_title = \"Overall OST I/O Rates\""
   ]
  },
  {
   "cell_type": "code",
   "execution_count": null,
   "metadata": {},
   "outputs": [],
   "source": [
    "fig, ax = matplotlib.pyplot.subplots()\n",
    "fig.set_size_inches(10, 8)\n",
    "fig.suptitle(plot_title)\n",
    "\n",
    "### Convert bytes/sec to GiB/sec\n",
    "plot_df.plot.area(ax=ax)\n",
    "\n",
    "ax.grid(True)\n",
    "ax.legend_.remove()\n",
    "ax.set_ylabel(\"GiB/sec\")\n",
    "ax.set_xlabel(\"Time\")"
   ]
  },
  {
   "cell_type": "code",
   "execution_count": null,
   "metadata": {},
   "outputs": [],
   "source": [
    "fig, ax = plt.subplots(figsize=(15, 10))\n",
    "fig.suptitle(plot_title)\n",
    "heatmap = ax.matshow(plot_df.transpose(),\n",
    "                     cmap='hot',\n",
    "                     aspect=(len(plot_df.transpose().index)/len(plot_df.transpose().columns)))\n",
    "ax.xaxis.tick_bottom()\n",
    "ax.invert_yaxis()\n",
    "cbar = plt.colorbar(heatmap)\n",
    "cbar.ax.set_ylabel(\"I/O Rate (GiB/sec)\")\n",
    "\n",
    "### set the OST name labels (y axis)\n",
    "new_labels = ax.get_yticks().tolist()\n",
    "for i, label in enumerate(new_labels):\n",
    "    column_index = int(new_labels[i])\n",
    "    if column_index < 0 or column_index >= len(plot_df.columns):\n",
    "        pass\n",
    "    else:\n",
    "        new_labels[i] = plot_df.columns[column_index]\n",
    "ax.set_yticklabels(new_labels)\n",
    "\n",
    "### set the timestamp labels (x axis)\n",
    "new_labels = ax.get_xticks().tolist()\n",
    "for i, label in enumerate(new_labels):\n",
    "    row_index = int(new_labels[i])\n",
    "    if row_index < 0 or row_index >= len(plot_df.index):\n",
    "        pass\n",
    "    else:\n",
    "        new_labels[i] = plot_df.index[row_index].to_pydatetime()\n",
    "ax.set_xticklabels(new_labels)\n",
    "\n",
    "for label in ax.get_xticklabels():\n",
    "    label.set_rotation(90)\n",
    "    \n",
    "plt.show()"
   ]
  },
  {
   "cell_type": "markdown",
   "metadata": {},
   "source": [
    "## Plot OST Read Rates"
   ]
  },
  {
   "cell_type": "code",
   "execution_count": null,
   "metadata": {},
   "outputs": [],
   "source": [
    "plot_df = (result_reads / 2.0**30.0)\n",
    "plot_title = \"OST Read Rates\""
   ]
  },
  {
   "cell_type": "code",
   "execution_count": null,
   "metadata": {},
   "outputs": [],
   "source": [
    "fig, ax = matplotlib.pyplot.subplots()\n",
    "fig.set_size_inches(10, 8)\n",
    "fig.suptitle(plot_title)\n",
    "\n",
    "### Convert bytes/sec to GiB/sec\n",
    "plot_df.plot.area(ax=ax)\n",
    "\n",
    "ax.grid(True)\n",
    "ax.legend_.remove()\n",
    "ax.set_ylabel(\"GiB/sec\")\n",
    "ax.set_xlabel(\"Time\")"
   ]
  },
  {
   "cell_type": "code",
   "execution_count": null,
   "metadata": {},
   "outputs": [],
   "source": [
    "fig, ax = plt.subplots(figsize=(15, 10))\n",
    "fig.suptitle(plot_title)\n",
    "heatmap = ax.matshow(plot_df.transpose(),\n",
    "                     cmap='hot',\n",
    "                     aspect=(len(plot_df.transpose().index)/len(plot_df.transpose().columns)))\n",
    "ax.xaxis.tick_bottom()\n",
    "ax.invert_yaxis()\n",
    "cbar = plt.colorbar(heatmap)\n",
    "cbar.ax.set_ylabel(\"I/O Rate (GiB/sec)\")\n",
    "\n",
    "### set the OST name labels (y axis)\n",
    "new_labels = ax.get_yticks().tolist()\n",
    "for i, label in enumerate(new_labels):\n",
    "    column_index = int(new_labels[i])\n",
    "    if column_index < 0 or column_index >= len(plot_df.columns):\n",
    "        pass\n",
    "    else:\n",
    "        new_labels[i] = plot_df.columns[column_index]\n",
    "ax.set_yticklabels(new_labels)\n",
    "\n",
    "### set the timestamp labels (x axis)\n",
    "new_labels = ax.get_xticks().tolist()\n",
    "for i, label in enumerate(new_labels):\n",
    "    row_index = int(new_labels[i])\n",
    "    if row_index < 0 or row_index >= len(plot_df.index):\n",
    "        pass\n",
    "    else:\n",
    "        new_labels[i] = plot_df.index[row_index].to_pydatetime()\n",
    "ax.set_xticklabels(new_labels)\n",
    "\n",
    "for label in ax.get_xticklabels():\n",
    "    label.set_rotation(90)\n",
    "    \n",
    "plt.show()"
   ]
  },
  {
   "cell_type": "markdown",
   "metadata": {
    "collapsed": true
   },
   "source": [
    "## Plot OST Write Rates"
   ]
  },
  {
   "cell_type": "code",
   "execution_count": null,
   "metadata": {},
   "outputs": [],
   "source": [
    "plot_df = (result_writes / 2.0**30.0)\n",
    "plot_title = \"OST Write Rates\""
   ]
  },
  {
   "cell_type": "code",
   "execution_count": null,
   "metadata": {},
   "outputs": [],
   "source": [
    "fig, ax = matplotlib.pyplot.subplots()\n",
    "fig.set_size_inches(10, 8)\n",
    "fig.suptitle(plot_title)\n",
    "\n",
    "### Convert bytes/sec to GiB/sec\n",
    "plot_df.plot.area(ax=ax)\n",
    "\n",
    "ax.grid(True)\n",
    "ax.legend_.remove()\n",
    "ax.set_ylabel(\"GiB/sec\")\n",
    "ax.set_xlabel(\"Time\")"
   ]
  },
  {
   "cell_type": "code",
   "execution_count": null,
   "metadata": {},
   "outputs": [],
   "source": [
    "fig, ax = plt.subplots(figsize=(15, 10))\n",
    "fig.suptitle(plot_title)\n",
    "heatmap = ax.matshow(plot_df.transpose(),\n",
    "                     cmap='hot',\n",
    "                     aspect=(len(plot_df.transpose().index)/len(plot_df.transpose().columns)))\n",
    "ax.xaxis.tick_bottom()\n",
    "ax.invert_yaxis()\n",
    "cbar = plt.colorbar(heatmap)\n",
    "cbar.ax.set_ylabel(\"I/O Rate (GiB/sec)\")\n",
    "\n",
    "### set the OST name labels (y axis)\n",
    "new_labels = ax.get_yticks().tolist()\n",
    "for i, label in enumerate(new_labels):\n",
    "    column_index = int(new_labels[i])\n",
    "    if column_index < 0 or column_index >= len(plot_df.columns):\n",
    "        pass\n",
    "    else:\n",
    "        new_labels[i] = plot_df.columns[column_index]\n",
    "ax.set_yticklabels(new_labels)\n",
    "\n",
    "### set the timestamp labels (x axis)\n",
    "new_labels = ax.get_xticks().tolist()\n",
    "for i, label in enumerate(new_labels):\n",
    "    row_index = int(new_labels[i])\n",
    "    if row_index < 0 or row_index >= len(plot_df.index):\n",
    "        pass\n",
    "    else:\n",
    "        new_labels[i] = plot_df.index[row_index].to_pydatetime()\n",
    "ax.set_xticklabels(new_labels)\n",
    "\n",
    "for label in ax.get_xticklabels():\n",
    "    label.set_rotation(90)\n",
    "    \n",
    "plt.show()"
   ]
  },
  {
   "cell_type": "markdown",
   "metadata": {},
   "source": [
    "## Plot CPU Load"
   ]
  },
  {
   "cell_type": "code",
   "execution_count": null,
   "metadata": {},
   "outputs": [],
   "source": [
    "plot_df = tokio.tools.hdf5.get_dataframe_from_time_range(\n",
    "            fsname=file_system,\n",
    "            dataset_name='dataservers/cpuload',\n",
    "            datetime_start=start_time,\n",
    "            datetime_end=end_time)"
   ]
  },
  {
   "cell_type": "code",
   "execution_count": null,
   "metadata": {},
   "outputs": [],
   "source": [
    "fig, ax = plt.subplots(figsize=(15, 10))\n",
    "fig.suptitle('OSS CPU Loads')\n",
    "heatmap = ax.matshow(plot_df.transpose(),\n",
    "                     cmap='hot',\n",
    "                     aspect=(len(plot_df.transpose().index)/len(plot_df.transpose().columns)))\n",
    "ax.xaxis.tick_bottom()\n",
    "ax.invert_yaxis()\n",
    "cbar = plt.colorbar(heatmap)\n",
    "cbar.ax.set_ylabel(\"CPU Load (%)\")\n",
    "\n",
    "### set the OST name labels (y axis)\n",
    "new_labels = ax.get_yticks().tolist()\n",
    "for i, label in enumerate(new_labels):\n",
    "    column_index = int(new_labels[i])\n",
    "    if column_index < 0 or column_index >= len(plot_df.columns):\n",
    "        pass\n",
    "    else:\n",
    "        new_labels[i] = plot_df.columns[column_index]\n",
    "ax.set_yticklabels(new_labels)\n",
    "\n",
    "### set the timestamp labels (x axis)\n",
    "new_labels = ax.get_xticks().tolist()\n",
    "for i, label in enumerate(new_labels):\n",
    "    row_index = int(new_labels[i])\n",
    "    if row_index < 0 or row_index >= len(plot_df.index):\n",
    "        pass\n",
    "    else:\n",
    "        new_labels[i] = plot_df.index[row_index].to_pydatetime()\n",
    "ax.set_xticklabels(new_labels)\n",
    "\n",
    "for label in ax.get_xticklabels():\n",
    "    label.set_rotation(90)\n",
    "    \n",
    "plt.show()"
   ]
  },
  {
   "cell_type": "code",
   "execution_count": null,
   "metadata": {},
   "outputs": [],
   "source": []
  }
 ],
 "metadata": {
  "anaconda-cloud": {},
  "kernelspec": {
   "display_name": "Python 2",
   "language": "python",
   "name": "python2"
  },
  "language_info": {
   "codemirror_mode": {
    "name": "ipython",
    "version": 2
   },
   "file_extension": ".py",
   "mimetype": "text/x-python",
   "name": "python",
   "nbconvert_exporter": "python",
   "pygments_lexer": "ipython2",
   "version": "2.7.14"
  }
 },
 "nbformat": 4,
 "nbformat_minor": 2
}
