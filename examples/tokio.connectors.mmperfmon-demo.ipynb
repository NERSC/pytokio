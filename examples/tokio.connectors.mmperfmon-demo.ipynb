{
 "cells": [
  {
   "cell_type": "markdown",
   "metadata": {},
   "source": [
    "# mmperfmon demo\n",
    "\n",
    "This notebook graphs the topology of a Spectrum Scale cluster based on the output of `mmperfmon query` using the mmperfmon connector.  Requires the `python-graphviz` package from Anaconda."
   ]
  },
  {
   "cell_type": "code",
   "execution_count": null,
   "metadata": {},
   "outputs": [],
   "source": [
    "%matplotlib inline"
   ]
  },
  {
   "cell_type": "code",
   "execution_count": null,
   "metadata": {},
   "outputs": [],
   "source": [
    "import os\n",
    "import glob"
   ]
  },
  {
   "cell_type": "code",
   "execution_count": null,
   "metadata": {},
   "outputs": [],
   "source": [
    "import graphviz"
   ]
  },
  {
   "cell_type": "code",
   "execution_count": null,
   "metadata": {},
   "outputs": [],
   "source": [
    "import tokio"
   ]
  },
  {
   "cell_type": "markdown",
   "metadata": {},
   "source": [
    "## Specify location of mmperfmon input\n",
    "\n",
    "The following input file can be a single output of mmperfmon, a directory full of mmperfmon output files, or a tarball containing mmperfmon outputs.  The `gpfs_nsdds_bytes_written` _must_ be present in the file though."
   ]
  },
  {
   "cell_type": "code",
   "execution_count": null,
   "metadata": {},
   "outputs": [],
   "source": [
    "MMPERFMON_INPUT_FILE = os.path.join(\"..\", \"tests\", \"inputs\", \"mmperfmon.2019-05-15-micro.tgz\")"
   ]
  },
  {
   "cell_type": "code",
   "execution_count": null,
   "metadata": {},
   "outputs": [],
   "source": [
    "mmpm = None"
   ]
  },
  {
   "cell_type": "code",
   "execution_count": null,
   "metadata": {},
   "outputs": [],
   "source": [
    "#tokio.connectors.mmperfmon.Mmperfmon.from_file()\n",
    "for file in glob.glob(MMPERFMON_INPUT_FILE):\n",
    "    if mmpm is None:\n",
    "        mmpm = tokio.connectors.mmperfmon.Mmperfmon.from_file(file)\n",
    "    else:\n",
    "        mmpm.load(file)"
   ]
  },
  {
   "cell_type": "code",
   "execution_count": null,
   "metadata": {},
   "outputs": [],
   "source": [
    "df = mmpm.to_dataframe_by_metric('gpfs_nsdds_bytes_written')"
   ]
  },
  {
   "cell_type": "code",
   "execution_count": null,
   "metadata": {},
   "outputs": [],
   "source": [
    "server_types = set([])\n",
    "for col in df.columns:\n",
    "    server_types.add(col)"
   ]
  },
  {
   "cell_type": "markdown",
   "metadata": {},
   "source": [
    "## Extract basic insight from mmperfmon output"
   ]
  },
  {
   "cell_type": "code",
   "execution_count": null,
   "metadata": {},
   "outputs": [],
   "source": [
    "servers = set([])\n",
    "luns = set([])\n",
    "for col in df.columns:\n",
    "    server, lun = col.split(':')\n",
    "    servers.add(server)\n",
    "    luns.add(lun)\n",
    "\n",
    "print(\"Found:\")\n",
    "print(\"  %3d servers\" % len(servers))\n",
    "print(\"  %3d luns\" % len(luns))"
   ]
  },
  {
   "cell_type": "code",
   "execution_count": null,
   "metadata": {},
   "outputs": [],
   "source": [
    "print(\"Found %d unique server-lun combinations\" % len(df.columns))"
   ]
  },
  {
   "cell_type": "markdown",
   "metadata": {},
   "source": [
    "## Build the cluster topology graph"
   ]
  },
  {
   "cell_type": "code",
   "execution_count": null,
   "metadata": {},
   "outputs": [],
   "source": [
    "edges = {}\n",
    "\n",
    "# neato, fdp, circo\n",
    "dot = graphviz.Graph(engine='fdp', format='png')\n",
    "dot.attr(outputorder=\"edgesfirst\")\n",
    "\n",
    "# comment out below to show node labels\n",
    "dot.attr('node', label=\"\")\n",
    "\n",
    "for server_type in sorted(list(server_types)):\n",
    "    server, lun = server_type.split(':')\n",
    "    dot.edge(server, lun, color=\"#00000044\")\n",
    "    dot.node(lun, shape='oval', style=\"filled\", fillcolor=\"firebrick\")\n",
    "    dot.node(server, shape='box', style=\"filled\", fillcolor=\"grey\")\n"
   ]
  },
  {
   "cell_type": "code",
   "execution_count": null,
   "metadata": {},
   "outputs": [],
   "source": [
    "dot.render('gpfs-topology.gv', view=True)"
   ]
  },
  {
   "cell_type": "code",
   "execution_count": null,
   "metadata": {},
   "outputs": [],
   "source": []
  }
 ],
 "metadata": {
  "kernelspec": {
   "display_name": "Python 3",
   "language": "python",
   "name": "python3"
  },
  "language_info": {
   "codemirror_mode": {
    "name": "ipython",
    "version": 3
   },
   "file_extension": ".py",
   "mimetype": "text/x-python",
   "name": "python",
   "nbconvert_exporter": "python",
   "pygments_lexer": "ipython3",
   "version": "3.6.5"
  }
 },
 "nbformat": 4,
 "nbformat_minor": 2
}
