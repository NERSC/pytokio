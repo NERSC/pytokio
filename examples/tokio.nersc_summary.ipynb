{
 "cells": [
  {
   "cell_type": "code",
   "execution_count": null,
   "metadata": {},
   "outputs": [],
   "source": [
    "%matplotlib inline"
   ]
  },
  {
   "cell_type": "code",
   "execution_count": null,
   "metadata": {},
   "outputs": [],
   "source": [
    "import collections\n",
    "import datetime\n",
    "\n",
    "import matplotlib\n",
    "matplotlib.rcParams['font.size'] = 16\n",
    "import matplotlib.pyplot\n",
    "import pandas\n",
    "\n",
    "import tokio\n",
    "import tokio.connectors.nersc_isdct"
   ]
  },
  {
   "cell_type": "code",
   "execution_count": null,
   "metadata": {},
   "outputs": [],
   "source": [
    "TARGET_DATE = datetime.datetime(2018, 12, 7)\n",
    "\n",
    "date_start = TARGET_DATE\n",
    "date_end = TARGET_DATE + datetime.timedelta(days=1)\n",
    "\n",
    "print(\"Returning data from %s to %s\" % (date_start, date_end))"
   ]
  },
  {
   "cell_type": "code",
   "execution_count": null,
   "metadata": {},
   "outputs": [],
   "source": [
    "io_traffic = collections.defaultdict(dict)"
   ]
  },
  {
   "cell_type": "markdown",
   "metadata": {},
   "source": [
    "## Lustre file systems"
   ]
  },
  {
   "cell_type": "code",
   "execution_count": null,
   "metadata": {},
   "outputs": [],
   "source": [
    "for lustre_fs in 'cscratch', 'scratch1', 'scratch2', 'scratch3', 'coribb':\n",
    "    for rw in 'read', 'write':\n",
    "        tmp_df = tokio.tools.hdf5.get_dataframe_from_time_range(\n",
    "            fsname=lustre_fs,\n",
    "            dataset_name='datatargets/%sbytes' % rw,\n",
    "            datetime_start=date_start,\n",
    "            datetime_end=date_end)\n",
    "        if tmp_df is not None:\n",
    "            io_traffic[lustre_fs][rw] = tmp_df.sum().sum()\n",
    "        else:\n",
    "            io_traffic[lustre_fs][rw] = -1.0"
   ]
  },
  {
   "cell_type": "markdown",
   "metadata": {},
   "source": [
    "## Cori Burst Buffer - via ISDCT"
   ]
  },
  {
   "cell_type": "code",
   "execution_count": null,
   "metadata": {},
   "outputs": [],
   "source": [
    "isdct_file = tokio.tools.common.enumerate_dated_files(\n",
    "    start=date_start,\n",
    "    end=date_end,\n",
    "    template=tokio.config.CONFIG['isdct_files'])\n",
    "\n",
    "zero_reads = 0\n",
    "zero_writes = 0\n",
    "if len(isdct_file) == 2:\n",
    "    yesterday_isdct = tokio.connectors.nersc_isdct.NerscIsdct(isdct_file[0])\n",
    "    today_isdct = tokio.connectors.nersc_isdct.NerscIsdct(isdct_file[-1])\n",
    "    isdct_diff = today_isdct.diff(yesterday_isdct)#, report_zeros=False)\n",
    "    read_tot = 0.0\n",
    "    write_tot = 0.0\n",
    "    for devicedata in isdct_diff['devices'].values():\n",
    "        if 'data_units_written_bytes' not in devicedata:\n",
    "            zero_writes += 1\n",
    "        if 'data_units_read_bytes' not in devicedata:\n",
    "            zero_reads += 1\n",
    "        read_tot += devicedata.get('data_units_read_bytes', 0.0)\n",
    "        write_tot += devicedata.get('data_units_written_bytes', 0.0)\n",
    "\n",
    "print(\"%d devices showed zero writes\" % zero_writes)\n",
    "print(\"%d devices showed zero reads\" % zero_reads)"
   ]
  },
  {
   "cell_type": "code",
   "execution_count": null,
   "metadata": {},
   "outputs": [],
   "source": [
    "io_traffic['coribb'] = {\n",
    "    'read': read_tot,\n",
    "    'write': write_tot,\n",
    "}"
   ]
  },
  {
   "cell_type": "markdown",
   "metadata": {},
   "source": [
    "## HPSS"
   ]
  },
  {
   "cell_type": "code",
   "execution_count": null,
   "metadata": {},
   "outputs": [],
   "source": [
    "hpss_file = tokio.tools.common.enumerate_dated_files(\n",
    "    start=date_start,\n",
    "    end=date_end + datetime.timedelta(seconds=-1),\n",
    "    template=tokio.config.CONFIG['hpss_report_files'])\n",
    "assert len(hpss_file) == 1\n",
    "hpss_dict = tokio.connectors.hpss.HpssDailyReport(hpss_file[0])"
   ]
  },
  {
   "cell_type": "code",
   "execution_count": null,
   "metadata": {},
   "outputs": [],
   "source": [
    "total_read = hpss_dict['archive']['io totals by client application']['total']\n",
    "io_traffic['archive'] = {\n",
    "    'read': hpss_dict['archive']['io totals by client application']['total']['read_gb'] * 2**30,\n",
    "    'write': hpss_dict['archive']['io totals by client application']['total']['write_gb'] * 2**30,\n",
    "}"
   ]
  },
  {
   "cell_type": "markdown",
   "metadata": {},
   "source": [
    "## Report on all storage systems"
   ]
  },
  {
   "cell_type": "code",
   "execution_count": null,
   "metadata": {},
   "outputs": [],
   "source": [
    "summaries_for_df = collections.defaultdict(dict)\n",
    "for system, iovolumes in io_traffic.items():\n",
    "    summaries_for_df[system]['read'] = iovolumes['read']\n",
    "    summaries_for_df[system]['write'] = iovolumes['write']\n",
    "    print(\"%12s %s read, %s written\" % (\n",
    "            system,\n",
    "            tokio.common.humanize_bytes(iovolumes['read'], fmt=\"%6.1f %3s\"),\n",
    "            tokio.common.humanize_bytes(iovolumes['write'], fmt=\"%6.1f %3s\")))"
   ]
  },
  {
   "cell_type": "code",
   "execution_count": null,
   "metadata": {},
   "outputs": [],
   "source": [
    "summary_tibs = pandas.DataFrame.from_dict(summaries_for_df, orient='index') / 2**40"
   ]
  },
  {
   "cell_type": "code",
   "execution_count": null,
   "metadata": {},
   "outputs": [],
   "source": [
    "fig, ax = matplotlib.pyplot.subplots(figsize=(8,6))\n",
    "\n",
    "summary_tibs.T.plot(kind='bar', stacked=True, ax=ax, width=0.9)\n",
    "\n",
    "ax.yaxis.grid()\n",
    "ax.set_axisbelow(True)\n",
    "ax.set_ylabel(\"Data Moved (TiB)\")\n",
    "ax.set_title(\"Storage Activity at NERSC on %s\" % TARGET_DATE.strftime(\"%b %d, %Y\"))"
   ]
  },
  {
   "cell_type": "code",
   "execution_count": null,
   "metadata": {},
   "outputs": [],
   "source": []
  }
 ],
 "metadata": {
  "kernelspec": {
   "display_name": "Python 3",
   "language": "python",
   "name": "python3"
  },
  "language_info": {
   "codemirror_mode": {
    "name": "ipython",
    "version": 3
   },
   "file_extension": ".py",
   "mimetype": "text/x-python",
   "name": "python",
   "nbconvert_exporter": "python",
   "pygments_lexer": "ipython3",
   "version": "3.6.6"
  }
 },
 "nbformat": 4,
 "nbformat_minor": 2
}
